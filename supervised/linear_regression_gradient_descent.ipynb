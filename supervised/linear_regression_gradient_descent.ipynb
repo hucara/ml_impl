{
 "cells": [
  {
   "cell_type": "markdown",
   "metadata": {},
   "source": [
    "# Linear regression with Gradient Descent"
   ]
  },
  {
   "cell_type": "markdown",
   "metadata": {},
   "source": [
    "* [Cost function and optimization by Gradient Descent](#Cost-function-and-optimization-by-Gradient-Descent)\n",
    "* [Linear regression with one variable](#Linear-regression-with-one-variable)\n",
    "* [Linear regression with multiple variables](#Linear-regression-with-multiple-variables)"
   ]
  },
  {
   "cell_type": "markdown",
   "metadata": {},
   "source": [
    "Linear regression is a statistical approach for modelling relationship between a dependent variable with a given set of independent variables. The ecuation of the regression line is `y=mx+b` but usually too represented as:"
   ]
  },
  {
   "cell_type": "markdown",
   "metadata": {},
   "source": [
    "\\begin{equation*}\n",
    "h(x_i) = {θ_0 + θ_1x_i}\n",
    "\\end{equation*}"
   ]
  },
  {
   "cell_type": "markdown",
   "metadata": {},
   "source": [
    "Where:\n",
    "* x / x_i    : explanatory variable (data)\n",
    "* y / h(x_i) : output prediction\n",
    "* m / θ_1    : slope or steepness of the line (coefficient / parameter 1)\n",
    "* b / θ_0    : bias (coefficient / parameter 2)\n",
    "\n",
    "Hence, by tweaking the parameters `m` and `b`, we can create a line that will best describe the relationship between `x` and `y`. Gradient descent will help us with this."
   ]
  },
  {
   "cell_type": "markdown",
   "metadata": {},
   "source": [
    "## Complexity: O(n * epoch) = O(n)"
   ]
  },
  {
   "cell_type": "markdown",
   "metadata": {},
   "source": [
    "Linear regression has to run on all examples of the training set at least once, so the cost is O(n)."
   ]
  },
  {
   "cell_type": "markdown",
   "metadata": {},
   "source": [
    "## Cost function and optimization by Gradient Descent"
   ]
  },
  {
   "cell_type": "markdown",
   "metadata": {},
   "source": [
    "The cost function will be the one that measures how well we are doing in our predictions. In Linear Regression we will use the mean squared error, which computes the squared error from our line to the training data, example by example, and then the mean of all those values."
   ]
  },
  {
   "cell_type": "markdown",
   "metadata": {},
   "source": [
    "\\begin{equation*}\n",
    "J(m,b) = \\frac{1}{N} \\sum_{i=1}^{n} (y_i - \\hat{y_i})^2 = \\frac{1}{N} \\sum_{i=1}^{n} (y_i - (mx_i + b))^2\n",
    "\\end{equation*}"
   ]
  },
  {
   "cell_type": "markdown",
   "metadata": {},
   "source": [
    "Once we know how good is our prediction **in all the training dataset**, thanks to the cost function, we need to find a way to make that cost as low as possible. For this, **we will try to find the parameters that give us that minimum cost**. For this, we need to obtain the **slope or the partial derivative of each of those parameters with respect to the cost function**. Here we see the formula for each of them:"
   ]
  },
  {
   "cell_type": "markdown",
   "metadata": {},
   "source": [
    "\\begin{equation*}\n",
    "\\begin{split}dJ(m,b) =\n",
    "   \\begin{bmatrix}\n",
    "     \\frac{df}{dm}\\\\\n",
    "     \\frac{df}{db}\\\\\n",
    "    \\end{bmatrix}\n",
    "=\n",
    "   \\begin{bmatrix}\n",
    "     \\frac{2}{N} \\sum_{i=1}^{n} -x_i(y_i - (mx_i + b)) \\\\\n",
    "     \\frac{2}{N} \\sum_{i=1}^{n} -(y_i - (mx_i + b)) \\\\\n",
    "    \\end{bmatrix}\\end{split}\n",
    "\\end{equation*}"
   ]
  },
  {
   "cell_type": "markdown",
   "metadata": {},
   "source": [
    "The process of finding the optimal values for m and b is to then minimize our derivatives. Training a machine learning algorithm or a neural network really is just the process of minimizing the cost function."
   ]
  },
  {
   "cell_type": "markdown",
   "metadata": {},
   "source": [
    "## Implementation"
   ]
  },
  {
   "cell_type": "code",
   "execution_count": 1,
   "metadata": {},
   "outputs": [],
   "source": [
    "import numpy as np\n",
    "import matplotlib.pyplot as plt\n",
    "from sklearn import datasets\n",
    "iris = datasets.load_iris()\n",
    "iris_data = iris.data"
   ]
  },
  {
   "cell_type": "markdown",
   "metadata": {},
   "source": [
    "### Linear regression with one variable"
   ]
  },
  {
   "cell_type": "code",
   "execution_count": 2,
   "metadata": {
    "scrolled": true
   },
   "outputs": [
    {
     "data": {
      "text/plain": [
       "[1.4, 1.4, 1.3, 1.5, 1.4, 1.7]"
      ]
     },
     "execution_count": 2,
     "metadata": {},
     "output_type": "execute_result"
    }
   ],
   "source": [
    "iris_x = [i[0] for i in iris_data] # get only one variable from iris data\n",
    "iris_x[:6]\n",
    "\n",
    "iris_y = [i[2] for i in iris_data] # get only one variable from iris data\n",
    "iris_y[:6]"
   ]
  },
  {
   "cell_type": "code",
   "execution_count": 3,
   "metadata": {},
   "outputs": [],
   "source": [
    "def linear_regression(X, y, m = 0, b = 0, epochs = 100, learning_rate = 0.001):\n",
    "    N = float(len(y))\n",
    "    \n",
    "    m_epoch = [m]\n",
    "    b_epoch = [b]\n",
    "    cost_epoch = []\n",
    "\n",
    "    for e in range(epochs):\n",
    "        # we apply the linear regression to all the dataset at once\n",
    "        y_hat = (m * np.array(X)) + b \n",
    "        \n",
    "        # get the cost for the entire training set\n",
    "        cost = sum([loss ** 2 for loss in (y-y_hat)]) / N\n",
    "        \n",
    "        # compute gradients and apply step\n",
    "        # dm is the partial derivative of m with respect to the cost\n",
    "        # db is the partial derivative of b with respect to the cost\n",
    "        dm = -(2 / N) * sum(X * (y-y_hat))\n",
    "        db = -(2 / N) * sum(y-y_hat)\n",
    "        \n",
    "        m = m - (learning_rate * dm)\n",
    "        b = b - (learning_rate * db)\n",
    "        \n",
    "        # save results\n",
    "        m_epoch.append(m)\n",
    "        b_epoch.append(b)\n",
    "        cost_epoch.append(cost)\n",
    "        \n",
    "        if e % 100 == 0:\n",
    "            print(\"iter: {} cost: {}\".format(e, cost))\n",
    "            #line = ((m * np.array(X)) + b)\n",
    "            #plt.plot(X, y, 'o', X, line)\n",
    "    \n",
    "    return m, b, cost, m_epoch, b_epoch, cost_epoch"
   ]
  },
  {
   "cell_type": "markdown",
   "metadata": {},
   "source": [
    "### Results"
   ]
  },
  {
   "cell_type": "code",
   "execution_count": 4,
   "metadata": {},
   "outputs": [
    {
     "name": "stdout",
     "output_type": "stream",
     "text": [
      "iter: 0 cost: 17.220000000000002\n",
      "iter: 100 cost: 1.7497133159420715\n",
      "iter: 200 cost: 1.7420717213142218\n",
      "iter: 300 cost: 1.7344934433397419\n",
      "iter: 400 cost: 1.7269726099363087\n",
      "iter: 500 cost: 1.7195087856629159\n",
      "iter: 600 cost: 1.7121015383811615\n",
      "iter: 700 cost: 1.7047504392283288\n",
      "iter: 800 cost: 1.6974550625925422\n",
      "iter: 900 cost: 1.6902149860881406\n"
     ]
    }
   ],
   "source": [
    "best_m, best_b, cost, m_array, b_array, cost_array = linear_regression(iris_x, iris_y, epochs = 1000)"
   ]
  },
  {
   "cell_type": "code",
   "execution_count": 5,
   "metadata": {},
   "outputs": [
    {
     "data": {
      "text/plain": [
       "[<matplotlib.lines.Line2D at 0x244f76b7080>,\n",
       " <matplotlib.lines.Line2D at 0x244f76b7208>]"
      ]
     },
     "execution_count": 5,
     "metadata": {},
     "output_type": "execute_result"
    },
    {
     "data": {
      "image/png": "[encoded data removed]",
      "text/plain": [
       "<Figure size 432x288 with 1 Axes>"
      ]
     },
     "metadata": {
      "needs_background": "light"
     },
     "output_type": "display_data"
    }
   ],
   "source": [
    "line = ((best_m * np.array(iris_x)) + best_b)\n",
    "plt.plot(iris_x, iris_y, 'o', iris_x, line)"
   ]
  },
  {
   "cell_type": "code",
   "execution_count": 6,
   "metadata": {},
   "outputs": [
    {
     "data": {
      "text/plain": [
       "[<matplotlib.lines.Line2D at 0x244f7795940>]"
      ]
     },
     "execution_count": 6,
     "metadata": {},
     "output_type": "execute_result"
    },
    {
     "data": {
      "image/png": "[encoded data removed]",
      "text/plain": [
       "<Figure size 432x288 with 1 Axes>"
      ]
     },
     "metadata": {
      "needs_background": "light"
     },
     "output_type": "display_data"
    }
   ],
   "source": [
    "plt.plot(cost_array) # cost per epoch"
   ]
  },
  {
   "cell_type": "markdown",
   "metadata": {},
   "source": [
    "***"
   ]
  },
  {
   "cell_type": "markdown",
   "metadata": {},
   "source": [
    "### Linear regression with multiple variables"
   ]
  },
  {
   "cell_type": "markdown",
   "metadata": {},
   "source": [
    "This is quite similar to the simple linear regression model we have discussed previously, but with multiple independent variables contributing to the dependent variable and hence multiple coefficients to determine and complex computation due to the added variables. Jumping straight into the equation of multivariate linear regression:\n",
    "\\begin{equation*}\n",
    "Y_i = \\alpha + W_{1}x_{i}^{(1)} + W_{2}x_{i}^{(2)}+....+W_{n}x_{i}^{(n)}\n",
    "\\end{equation*}\n",
    "Where:\n",
    "* x_i(1) : variable 1 of the example i\n",
    "* W_1 : weight / coefficient / parameter for the variable 1\n",
    "* alpha: bias"
   ]
  },
  {
   "cell_type": "code",
   "execution_count": 7,
   "metadata": {},
   "outputs": [],
   "source": [
    "def multivariate_linear_regression(X, weights):\n",
    "    return np.dot(X, weights)"
   ]
  },
  {
   "cell_type": "markdown",
   "metadata": {},
   "source": [
    "### Cost for multiple variables\n",
    "\n",
    "Now we need a cost function to audit how our model is performing. The math is the same, except we swap the `mx+b` expression for `W1x1+W2x2+W3x3` in case we have three variables. We also divide the expression by 2 to make derivative calculations simpler.\n",
    "\\begin{equation*}\n",
    "J(W) =  \\frac{1}{2N} \\sum_{i=1}^{n} (y_i - (W_1 x_1 + W_2 x_2 + W_3 x_3))^2\n",
    "\\end{equation*}"
   ]
  },
  {
   "cell_type": "code",
   "execution_count": 8,
   "metadata": {},
   "outputs": [],
   "source": [
    "def compute_cost(y, y_hat):\n",
    "    sq_error = (y_hat - y)**2\n",
    "    return 1.0/(2*len(y)) * sq_error.sum()"
   ]
  },
  {
   "cell_type": "markdown",
   "metadata": {},
   "source": [
    "### Gradient descent in multivariate linear regression\n",
    "\n",
    "Again we need partial derivatives of the cost to obtain our gradients so we can optimize our cost. The formulas we obtained thanks to chain rule are these:\n",
    "\n",
    "\\begin{equation*}\n",
    "J'(W_1) = -x_1(y - \\hat{y}) = -x_1(y - (W_1 x_1 + W_2 x_2 + W_3 x_3)) \\\\\n",
    "J'(W_2) = -x_3(y - \\hat{y}) = -x_2(y - (W_1 x_1 + W_2 x_2 + W_3 x_3)) \\\\\n",
    "J'(W_3) = -x_3(y - \\hat{y}) = -x_3(y - (W_1 x_1 + W_2 x_2 + W_3 x_3))\n",
    "\\end{equation*}\n",
    "\n",
    "We will make use of vectorization and linear algebra again to compute these, but first a non vectorized version to better understand what is going on."
   ]
  },
  {
   "cell_type": "code",
   "execution_count": 9,
   "metadata": {},
   "outputs": [],
   "source": [
    "def initialize_weights(n_variables):\n",
    "    # Initializes an array of weigths to zero\n",
    "    return np.zeros((n_variables,1))\n",
    "\n",
    "def get_predictions(X, weights):\n",
    "    # Predicts results of multivariate regression\n",
    "    return np.dot(X, weights)\n",
    "\n",
    "def compute_cost(y, y_hat):\n",
    "    sq_error = (y_hat - y)**2\n",
    "    return 1.0/(2*len(y)) * sq_error.sum()\n",
    "\n",
    "def compute_gradients(X, y, y_hat):\n",
    "    # With the formula above we know that\n",
    "    # gradient = -X.T * (y - y_hat) / N\n",
    "    return np.dot(-X.T, y - y_hat) / len(y) \n",
    "\n",
    "def update_parameters(weights, gradients, learning_rate):\n",
    "    return weights - (learning_rate * gradients)\n",
    "\n",
    "def lineal_regression_multivariate(X, y, epochs = 100, learning_rate = 0.0001, verbose = False):\n",
    "    n_variables = X.shape[1]\n",
    "    weights = initialize_weights(n_variables)\n",
    "    \n",
    "    cost_epoch = []\n",
    "    predictions_epoch = []\n",
    "    gradients_epoch = []\n",
    "    weights_epoch = []\n",
    "    \n",
    "    for i in range(epochs):\n",
    "        predictions = get_predictions(X, weights)\n",
    "        cost = compute_cost(y, predictions)\n",
    "        gradients = compute_gradients(X, y, predictions)\n",
    "        weights = update_parameters(weights, gradients, learning_rate)\n",
    "        \n",
    "        cost_epoch.append(cost)\n",
    "        predictions_epoch.append(predictions)\n",
    "        gradients_epoch.append(gradients)\n",
    "        weights_epoch.append(weights)\n",
    "        \n",
    "        if verbose > 0:\n",
    "            print(\"Epoch: {} Cost: {}\".format(i, cost))\n",
    "            if verbose > 1:\n",
    "                print(\"- X: {}\".format(X[:5]))\n",
    "                print(\"- Weights: {}\".format(weights))\n",
    "                print(\"- Predictions: {}\".format(predictions[:5]))\n",
    "                print(\"- Gradients: {}\".format(gradients[:5]))\n",
    "    \n",
    "    return predictions, cost, gradients, weights, cost_epoch, weights_epoch"
   ]
  },
  {
   "cell_type": "code",
   "execution_count": 10,
   "metadata": {},
   "outputs": [
    {
     "name": "stdout",
     "output_type": "stream",
     "text": [
      "Cost: 74.3631884905815\n"
     ]
    }
   ],
   "source": [
    "iris_x = np.array([i[0:] for i in iris_data]) # get only [1, 2, 3] variables from iris data\n",
    "iris_y = np.array([i[0] for i in iris_data]) # get only [0] variable from iris data\n",
    "\n",
    "predictions, cost, gradients, weights, cost_epoch, weights_epoch = lineal_regression_multivariate(iris_x, \n",
    "                                                                                                  iris_y, \n",
    "                                                                                                  epochs = 1000, \n",
    "                                                                                                  learning_rate = 0.0001, \n",
    "                                                                                                  verbose = 0)\n",
    "print(\"Cost: {}\".format(cost))"
   ]
  },
  {
   "cell_type": "code",
   "execution_count": 11,
   "metadata": {},
   "outputs": [
    {
     "data": {
      "text/plain": [
       "[<matplotlib.lines.Line2D at 0x244f7840278>]"
      ]
     },
     "execution_count": 11,
     "metadata": {},
     "output_type": "execute_result"
    },
    {
     "data": {
      "image/png": "[encoded data removed]",
      "text/plain": [
       "<Figure size 432x288 with 1 Axes>"
      ]
     },
     "metadata": {
      "needs_background": "light"
     },
     "output_type": "display_data"
    }
   ],
   "source": [
    "plt.plot(cost_epoch) # cost per epoch"
   ]
  },
  {
   "cell_type": "markdown",
   "metadata": {},
   "source": [
    "## Notes:\n",
    "\n",
    "- Realize that the way we evaluate the performance of the predictions (MSE) is not the same as computing the derivatives for the gradients."
   ]
  },
  {
   "cell_type": "markdown",
   "metadata": {},
   "source": [
    "## Links:\n",
    "* None yet"
   ]
  }
 ],
 "metadata": {
  "kernelspec": {
   "display_name": "Python 3",
   "language": "python",
   "name": "python3"
  },
  "language_info": {
   "codemirror_mode": {
    "name": "ipython",
    "version": 3
   },
   "file_extension": ".py",
   "mimetype": "text/x-python",
   "name": "python",
   "nbconvert_exporter": "python",
   "pygments_lexer": "ipython3",
   "version": "3.7.0"
  }
 },
 "nbformat": 4,
 "nbformat_minor": 2
}
