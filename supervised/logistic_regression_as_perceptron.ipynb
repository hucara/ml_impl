{
 "cells": [
  {
   "cell_type": "markdown",
   "metadata": {},
   "source": [
    "# Logistic regression as a perceptron"
   ]
  },
  {
   "cell_type": "markdown",
   "metadata": {},
   "source": [
    "* [Cost function](#Cost-function)\n",
    "* [Implementation](#Implementation)"
   ]
  },
  {
   "cell_type": "markdown",
   "metadata": {},
   "source": [
    "## Small Linear Algebra recap\n",
    "To multiply two matrices, the number of columns of the first matrix must equal the number of rows of the second matrix.\n",
    "\n",
    "#### Matrix x Vector multiplication (3x2)*(2x1):\n",
    "\\begin{equation*}\n",
    "\\begin{bmatrix}  a & b \\newline   c & d \\newline   e & f \\end{bmatrix} *\\begin{bmatrix}  x \\newline   y \\newline  \\end{bmatrix} =\\begin{bmatrix}  a*x + b*y \\newline   c*x + d*y \\newline   e*x + f*y\\end{bmatrix}\n",
    "\\end{equation*}\n",
    "\n",
    "#### Matrix x Matrix multiplication, dot product (3x2)*(2x2):\n",
    "\\begin{equation*}\n",
    "\\begin{bmatrix}  a & b \\newline   c & d \\newline   e & f \\end{bmatrix} *\\begin{bmatrix}  w & x \\newline   y & z \\newline  \\end{bmatrix} =\\begin{bmatrix}  a*w + b*y & a*x + b*z \\newline   c*w + d*y & c*x + d*z \\newline   e*w + f*y & e*x + f*z\\end{bmatrix}\n",
    "\\end{equation*}\n",
    "\n",
    "#### In deep learning:\n",
    "<img src=\"img/lalgebra_recap.png\" width=700 height=500></img>"
   ]
  },
  {
   "cell_type": "markdown",
   "metadata": {},
   "source": [
    "# Logistic regression as a perceptron\n",
    "\n",
    "<img src=\"img/perceptron.png\" width=600 height=500></img>"
   ]
  },
  {
   "cell_type": "markdown",
   "metadata": {},
   "source": [
    "Logistic regression is a classification algorithm used to assign observations to a discrete set of classes. Unlike linear regression which outputs continuous number values, logistic regression transforms its output using the logistic sigmoid function to return a probability value which can then be mapped to two or more discrete classes. It is also actually a very simple Neural Network of one perceptron. Let's take a look a the mathematical expression of the algorithm.\n",
    "\n",
    "\\begin{equation*}\n",
    "z^{(i)} = W^T x^{(i)} + b\n",
    "\\end{equation*}\n",
    "\\begin{equation*}\n",
    "\\hat{y}^{(i)} = a^{(i)} = sigmoid(z^{(i)})\n",
    "\\end{equation*}\n",
    "Sigmoid activation: \\begin{equation*}sigmoid(z) = \\frac{1} {1 + e^{-z}}\\end{equation*}"
   ]
  },
  {
   "cell_type": "markdown",
   "metadata": {},
   "source": [
    "## Complexity: O(n * epoch) = O(n)"
   ]
  },
  {
   "cell_type": "markdown",
   "metadata": {},
   "source": [
    "Logistic regression has to run on all examples of the training set at least once, so the cost is O(n)."
   ]
  },
  {
   "cell_type": "markdown",
   "metadata": {},
   "source": [
    "## Cost function"
   ]
  },
  {
   "cell_type": "markdown",
   "metadata": {},
   "source": [
    "Instead of using the MSE as with Linear Regression, we will use Cross-entropy, also called **log-loss** as a way to measure how well our model is predicting the class. Log-loss measures the performance of a classification model whose output is a probability value between 0 and 1. Cross-entropy loss increases as the predicted probability diverges from the actual label. So predicting a probability of .012 when the actual observation label is 1 would be bad and result in a high loss value. A perfect model would have a log loss of 0. The formula is this:\n",
    "\n",
    "\\begin{equation*}\n",
    "L(a^{(i)}, y^{(i)}) = -y^{(i)}log(a^{(i)})-(1-y^{(i)})log(1-a^{(i)})\n",
    "\\end{equation*}\n",
    "\n",
    "And then for all training samples the cost is computed as:\n",
    "\\begin{equation*}\n",
    "J = \\frac{1}{m} \\sum_{i=1}^{m} L(a^{(i)}, y^{(i)})\n",
    "\\end{equation*}"
   ]
  },
  {
   "cell_type": "markdown",
   "metadata": {},
   "source": [
    "## Implementation"
   ]
  },
  {
   "cell_type": "markdown",
   "metadata": {},
   "source": [
    "The steps are going to be pretty similar to linear regression:\n",
    "* Initialize parameters\n",
    "* Learn parameters by minimizing the cost by looping:\n",
    "  * Calculate current loss (forward propagation)\n",
    "  * Calculate current gradient (backward propagation)\n",
    "  * Update parameters (gradient descent)"
   ]
  },
  {
   "cell_type": "code",
   "execution_count": 4,
   "metadata": {},
   "outputs": [],
   "source": [
    "import numpy as np\n",
    "import matplotlib.pyplot as plt\n",
    "from sklearn import datasets\n",
    "iris = datasets.load_iris()\n",
    "iris_data = iris.data\n",
    "iris_labels = iris.target"
   ]
  },
  {
   "cell_type": "markdown",
   "metadata": {},
   "source": [
    "**Logistic regression only works for two classes {0, 1}**. If we have more, our cost will go downhill the negative spectrum. So in order to get any strange behavior, we select only the ones with 0 and 1 labels."
   ]
  },
  {
   "cell_type": "code",
   "execution_count": 2,
   "metadata": {},
   "outputs": [
    {
     "name": "stdout",
     "output_type": "stream",
     "text": [
      "Labels: [0 0 0 0 0]...\n",
      "Data: [[5.1 3.5 1.4 0.2]\n",
      " [4.9 3.  1.4 0.2]\n",
      " [4.7 3.2 1.3 0.2]\n",
      " [4.6 3.1 1.5 0.2]\n",
      " [5.  3.6 1.4 0.2]]...\n",
      "Shape of labels: 100\n",
      "Shape of data: 100\n"
     ]
    }
   ],
   "source": [
    "iris_data = iris_data[iris_labels < 2]\n",
    "iris_labels = iris_labels[iris_labels < 2]\n",
    "print(\"Labels: {}...\".format(iris_labels[:5]))\n",
    "print(\"Data: {}...\".format(iris_data[:5]))\n",
    "print(\"Shape of labels: {}\".format(len(iris_labels)))\n",
    "print(\"Shape of data: {}\".format(iris_labels.shape[0]))"
   ]
  },
  {
   "cell_type": "markdown",
   "metadata": {},
   "source": [
    "### Sigmoid"
   ]
  },
  {
   "cell_type": "markdown",
   "metadata": {},
   "source": [
    "In order to map predicted values to probabilities, we use the sigmoid function. The function **maps any real value into another value between 0 and 1**. In machine learning, we use sigmoid to map predictions to probabilities."
   ]
  },
  {
   "cell_type": "code",
   "execution_count": 5,
   "metadata": {},
   "outputs": [],
   "source": [
    "def sigmoid(z):\n",
    "    return 1 / (1 + np.exp(-z))"
   ]
  },
  {
   "cell_type": "code",
   "execution_count": 7,
   "metadata": {},
   "outputs": [
    {
     "name": "stdout",
     "output_type": "stream",
     "text": [
      "sigmoid(0) = 0.5\n",
      "sigmoid(9.2) = 1.0\n"
     ]
    }
   ],
   "source": [
    "print(\"sigmoid(0) = \" + str(sigmoid(0)))\n",
    "print(\"sigmoid(9.2) = \" + str(sigmoid(10000)))"
   ]
  },
  {
   "cell_type": "markdown",
   "metadata": {
    "scrolled": true
   },
   "source": [
    "### Initialize parameters"
   ]
  },
  {
   "cell_type": "markdown",
   "metadata": {},
   "source": [
    "Initialize the parameters `W` and `b`"
   ]
  },
  {
   "cell_type": "code",
   "execution_count": 5,
   "metadata": {},
   "outputs": [],
   "source": [
    "def initialize_parameters(n_variables):\n",
    "    w = np.zeros((n_variables, 1), dtype = int)\n",
    "    b = 0.0\n",
    "    return w, b"
   ]
  },
  {
   "cell_type": "code",
   "execution_count": 6,
   "metadata": {},
   "outputs": [
    {
     "name": "stdout",
     "output_type": "stream",
     "text": [
      "b = 0.0\n",
      "w = [[0]\n",
      " [0]\n",
      " [0]]\n"
     ]
    }
   ],
   "source": [
    "n_variables = 3\n",
    "w, b = initialize_parameters(n_variables)\n",
    "print (\"b = \" + str(b))\n",
    "print (\"w = \" + str(w))"
   ]
  },
  {
   "cell_type": "markdown",
   "metadata": {},
   "source": [
    "### Forward propagation\n",
    "\n",
    "In forward propagation we pass the information forward on the neural to obtain the predictions in `A`. Simply give the input to the perceptron `X` and the parameters `W`, `b` to obtain the activation output `A`. We also compute the cost to check how our model is performing. Our initial `W` and `b` will be set to zero (don't do it in NN or you won't break simmetry of output), but we will update them each iteration in the backpropagation step.\n",
    "\n",
    "Compute:\n",
    "* $A = \\sigma(w^T X + b) = (a^{(1)}, a^{(2)}, ..., a^{(m-1)}, a^{(m)})$\n",
    "* $J = -\\frac{1}{m}\\sum_{i=1}^{m}y^{(i)}\\log(a^{(i)})+(1-y^{(i)})\\log(1-a^{(i)})$"
   ]
  },
  {
   "cell_type": "code",
   "execution_count": 7,
   "metadata": {},
   "outputs": [],
   "source": [
    "def forward_prop(w, b, X, Y):\n",
    "    \n",
    "    m = X.shape[1]\n",
    "    \n",
    "    # compute activation\n",
    "    A = sigmoid(np.dot(w.T, X) + b)\n",
    "    \n",
    "    # compute cost\n",
    "    cost = (- 1 / m) * np.sum(Y * np.log(A) + (1 - Y) * (np.log(1 - A)))\n",
    "    \n",
    "    return A, cost"
   ]
  },
  {
   "cell_type": "markdown",
   "metadata": {},
   "source": [
    "### Backward propagation\n",
    "\n",
    "In backward propagation we pass the information backward, specially the gradients. We compute the gradients with the partial derivates of the cost with respect to each parameter. This is so we can update our parameters, also called the weights.\n",
    "\n",
    "<img src=\"img/backprop.png\" width = 600, height = 500>"
   ]
  },
  {
   "cell_type": "markdown",
   "metadata": {},
   "source": [
    "The partial derivatives of the cost with respect to `w` and `b` are as follows:\n",
    "\n",
    "\\begin{equation*}\n",
    "\\frac{\\partial J}{\\partial w} = \\frac{1}{m}X(A-Y)^T\n",
    "\\end{equation*}\n",
    "\n",
    "\\begin{equation*}\n",
    "\\frac{\\partial J}{\\partial b} = \\frac{1}{m} \\sum_{i=1}^m (a^{(i)}-y^{(i)})\n",
    "\\end{equation*}"
   ]
  },
  {
   "cell_type": "code",
   "execution_count": 8,
   "metadata": {},
   "outputs": [],
   "source": [
    "def backward_prop(w, b, A, X, Y):\n",
    "    m = X.shape[1]\n",
    "    \n",
    "    dw = (1 / m) * np.dot(X, (A - Y).T)\n",
    "    db = (1 / m) * np.sum(A - Y)\n",
    "    return dw, db"
   ]
  },
  {
   "cell_type": "code",
   "execution_count": 9,
   "metadata": {},
   "outputs": [],
   "source": [
    "def update_parameters(w, b, dw, db, learning_rate):\n",
    "    w = w - (learning_rate * dw)\n",
    "    b = b - (learning_rate * db)\n",
    "    return w, b"
   ]
  },
  {
   "cell_type": "markdown",
   "metadata": {},
   "source": [
    "Once we have our helper functions running, we can implement our optimization loop."
   ]
  },
  {
   "cell_type": "markdown",
   "metadata": {},
   "source": [
    "### Results"
   ]
  },
  {
   "cell_type": "code",
   "execution_count": 10,
   "metadata": {},
   "outputs": [
    {
     "name": "stdout",
     "output_type": "stream",
     "text": [
      "Number of training examples: m_train = 100\n",
      "train_set_x shape: (100, 4)\n",
      "train_set_y shape: (100,)\n"
     ]
    }
   ],
   "source": [
    "m_train_x = iris_data\n",
    "m_train_y = iris_labels\n",
    "print(\"Number of training examples: m_train = \" + str(len(m_train_x)))\n",
    "print(\"train_set_x shape: \" + str(m_train_x.shape))\n",
    "print(\"train_set_y shape: \" + str(m_train_y.shape))"
   ]
  },
  {
   "cell_type": "markdown",
   "metadata": {},
   "source": [
    "In this case, we have to transform the dataset to be a 4 x 150 matrix, and we got the transposed one. Let's fix it."
   ]
  },
  {
   "cell_type": "code",
   "execution_count": 11,
   "metadata": {},
   "outputs": [
    {
     "name": "stdout",
     "output_type": "stream",
     "text": [
      "train_set_x shape: (4, 100)\n",
      "weights: (1, 4)\n"
     ]
    }
   ],
   "source": [
    "m_train_x = iris_data.T\n",
    "w, b = initialize_parameters(m_train_x.shape[0])\n",
    "print(\"train_set_x shape: \" + str(m_train_x.shape))\n",
    "print(\"weights: {}\".format(w.T.shape)) # we also do transpose inside the function"
   ]
  },
  {
   "cell_type": "code",
   "execution_count": 12,
   "metadata": {},
   "outputs": [],
   "source": [
    "def logistic_regression(X, Y, num_iterations, learning_rate = 0.0002, verbose = 0):\n",
    "    \n",
    "    w, b = initialize_parameters(X.shape[0])\n",
    "    \n",
    "    w_epoch = [w]\n",
    "    b_epoch = [b]\n",
    "    cost_epoch = []\n",
    "        \n",
    "    for i in range(num_iterations):\n",
    "        A, cost = forward_prop(w, b, X, Y)\n",
    "        dw, db = backward_prop(w, b, A, X, Y)\n",
    "        w, b = update_parameters(w, b, dw, db, learning_rate)\n",
    "        \n",
    "        # save results\n",
    "        w_epoch.append(w)\n",
    "        b_epoch.append(b)\n",
    "        cost_epoch.append(cost)\n",
    "\n",
    "        if verbose > 0:\n",
    "            print(\"Epoch: {} Cost: {}\".format(i, cost))\n",
    "            if verbose > 1:\n",
    "                print(\"- X: {}\".format(X[:5]))\n",
    "                print(\"- Weights: {}\".format(w))\n",
    "                print(\"- Predictions: {}\".format(predictions[:5]))\n",
    "                print(\"- dW: {}\".format(dw[:5]))\n",
    "                print(\"- db: {}\".format(db[:5]))\n",
    "        \n",
    "    return cost, w, b, dw, db, cost_epoch"
   ]
  },
  {
   "cell_type": "code",
   "execution_count": 13,
   "metadata": {},
   "outputs": [],
   "source": [
    "cost, w, b, dw, db, cost_epoch = logistic_regression(m_train_x, \n",
    "                                                     m_train_y, \n",
    "                                                     learning_rate = 0.0002, \n",
    "                                                     num_iterations = 1500, \n",
    "                                                     verbose = 0)"
   ]
  },
  {
   "cell_type": "code",
   "execution_count": 14,
   "metadata": {},
   "outputs": [
    {
     "data": {
      "text/plain": [
       "[<matplotlib.lines.Line2D at 0x286a5ea0f60>]"
      ]
     },
     "execution_count": 14,
     "metadata": {},
     "output_type": "execute_result"
    },
    {
     "data": {
      "image/png": "[encoded data removed]",
      "text/plain": [
       "<Figure size 432x288 with 1 Axes>"
      ]
     },
     "metadata": {
      "needs_background": "light"
     },
     "output_type": "display_data"
    }
   ],
   "source": [
    "plt.plot(cost_epoch)"
   ]
  },
  {
   "cell_type": "code",
   "execution_count": 15,
   "metadata": {},
   "outputs": [],
   "source": [
    "def predict(w, b, X):\n",
    "    m = X.shape[1]\n",
    "\n",
    "    # compute predictions with optimized parameters\n",
    "    A = sigmoid(np.dot(w.T, X) + b)\n",
    "    \n",
    "    # convert probabilities to actual predictions (0, 1)\n",
    "    y_hat = np.around(A, decimals=0)\n",
    "\n",
    "    return y_hat"
   ]
  },
  {
   "cell_type": "code",
   "execution_count": 16,
   "metadata": {},
   "outputs": [],
   "source": [
    "predictions = predict(w, b, m_train_x)"
   ]
  },
  {
   "cell_type": "code",
   "execution_count": 17,
   "metadata": {},
   "outputs": [
    {
     "name": "stdout",
     "output_type": "stream",
     "text": [
      "train accuracy: 99.0 %\n"
     ]
    }
   ],
   "source": [
    "# Print train/test Errors\n",
    "print(\"train accuracy: {} %\".format(100 - np.mean(np.abs(predictions - m_train_y)) * 100))"
   ]
  },
  {
   "cell_type": "markdown",
   "metadata": {},
   "source": [
    "***"
   ]
  },
  {
   "cell_type": "markdown",
   "metadata": {},
   "source": [
    "## Notes:\n",
    "\n",
    "- Always check the matrix dimmensions. Consider that computing of predictions, according to the formula, `W` is transposed too."
   ]
  },
  {
   "cell_type": "markdown",
   "metadata": {},
   "source": [
    "## Links:\n",
    "* None yet"
   ]
  }
 ],
 "metadata": {
  "kernelspec": {
   "display_name": "Python 3",
   "language": "python",
   "name": "python3"
  },
  "language_info": {
   "codemirror_mode": {
    "name": "ipython",
    "version": 3
   },
   "file_extension": ".py",
   "mimetype": "text/x-python",
   "name": "python",
   "nbconvert_exporter": "python",
   "pygments_lexer": "ipython3",
   "version": "3.7.0"
  }
 },
 "nbformat": 4,
 "nbformat_minor": 2
}
