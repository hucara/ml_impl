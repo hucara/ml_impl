{
 "cells": [
  {
   "cell_type": "markdown",
   "metadata": {},
   "source": [
    "# K-Means Clustering"
   ]
  },
  {
   "cell_type": "markdown",
   "metadata": {},
   "source": [
    "Given a set of k clusters, the algorithm iterates over two steps to form clusters of the given data. These steps are:\n",
    "* Expectation: assigns every point to the closest mean centroid.\n",
    "* Maximization: recomputes the centroids given the new formed clusters.\n",
    "\n",
    "This is done until the algorithm converges, that is, until the centroids do not change its location or simply with a max. number of iterations."
   ]
  },
  {
   "cell_type": "markdown",
   "metadata": {},
   "source": [
    "## Complexity: O(k n T)  = O(n)\n",
    "\n",
    "* k : number of centroids.\n",
    "* n : number of samples.\n",
    "* T : number of iterations."
   ]
  },
  {
   "cell_type": "markdown",
   "metadata": {},
   "source": [
    "## Implementation"
   ]
  },
  {
   "cell_type": "code",
   "execution_count": 1,
   "metadata": {},
   "outputs": [],
   "source": [
    "import numpy as np\n",
    "import random\n",
    "from sklearn import datasets\n",
    "import matplotlib.pyplot as plt\n",
    "iris = datasets.load_iris()\n",
    "iris_data = iris.data\n",
    "iris_labels = iris.target\n",
    "\n",
    "# just reduction of iris_data to two dimensional so we can plot it afterwards\n",
    "iris_data = [d[:2] for d in iris_data]"
   ]
  },
  {
   "cell_type": "code",
   "execution_count": 2,
   "metadata": {},
   "outputs": [
    {
     "data": {
      "text/plain": [
       "array([4.7, 3.2])"
      ]
     },
     "execution_count": 2,
     "metadata": {},
     "output_type": "execute_result"
    }
   ],
   "source": [
    "iris_data[2]"
   ]
  },
  {
   "cell_type": "markdown",
   "metadata": {},
   "source": [
    "### Distance function"
   ]
  },
  {
   "cell_type": "markdown",
   "metadata": {},
   "source": [
    "In this case the distance is Euclidean distance, but could be any specific distance, like for example, levenshtein."
   ]
  },
  {
   "cell_type": "code",
   "execution_count": 3,
   "metadata": {},
   "outputs": [],
   "source": [
    "def euclidean_dist(l1, l2):\n",
    "    return np.linalg.norm(l1 - l2)"
   ]
  },
  {
   "cell_type": "code",
   "execution_count": 4,
   "metadata": {},
   "outputs": [
    {
     "data": {
      "text/plain": [
       "0.7280109889280519"
      ]
     },
     "execution_count": 4,
     "metadata": {},
     "output_type": "execute_result"
    }
   ],
   "source": [
    "euclidean_dist(iris_data[2], iris_data[20])"
   ]
  },
  {
   "cell_type": "code",
   "execution_count": 5,
   "metadata": {},
   "outputs": [],
   "source": [
    "def init_centroids(data, k):\n",
    "    centroids = []\n",
    "    for i in range(k):\n",
    "        centroids.append(random.choice(data))\n",
    "    \n",
    "    return centroids"
   ]
  },
  {
   "cell_type": "code",
   "execution_count": 6,
   "metadata": {},
   "outputs": [
    {
     "data": {
      "text/plain": [
       "[array([4.5, 2.3]), array([4.9, 3.1]), array([5.8, 2.8])]"
      ]
     },
     "execution_count": 6,
     "metadata": {},
     "output_type": "execute_result"
    }
   ],
   "source": [
    "centroids = init_centroids(iris_data, 3)\n",
    "centroids"
   ]
  },
  {
   "cell_type": "code",
   "execution_count": 7,
   "metadata": {},
   "outputs": [
    {
     "data": {
      "text/plain": [
       "1.5066519173319366"
      ]
     },
     "execution_count": 7,
     "metadata": {},
     "output_type": "execute_result"
    }
   ],
   "source": [
    "euclidean_dist(iris_data[2], centroids)"
   ]
  },
  {
   "cell_type": "code",
   "execution_count": 33,
   "metadata": {},
   "outputs": [],
   "source": [
    "def k_means_clustering(data, k, max_iter):\n",
    "    centroids = init_centroids(data, k)\n",
    "    assigned_centroids = np.zeros(len(data))\n",
    "    distances = np.zeros(k)\n",
    "    converged = np.zeros(k)\n",
    "    # Expectation: assign data points to closest cluster\n",
    "    for i in range(max_iter):\n",
    "        old_centroids = centroids.copy()\n",
    "        \n",
    "        for j, d in enumerate(data):\n",
    "            distances = [euclidean_dist(c, d) for c in centroids]\n",
    "            assigned_centroids[j] = np.argmin(distances) # gets index of min distance to point\n",
    "            \n",
    "        # Maximization: compute new centroid location\n",
    "        for j in range(k):\n",
    "            centroid_data = [data[d] for d in range(len(data)) if assigned_centroids[d] == j]\n",
    "            centroids[j] = np.mean(centroid_data, axis = 0)\n",
    "            \n",
    "            converged[j] = np.array_equal(old_centroids[j], centroids[j])\n",
    "        \n",
    "        if all(converged):\n",
    "            print(\"Converged in iteration {}.\".format(i))\n",
    "            return (assigned_centroids, centroids)\n",
    "            \n",
    "    return (assigned_centroids, centroids)"
   ]
  },
  {
   "cell_type": "markdown",
   "metadata": {},
   "source": [
    "### Results"
   ]
  },
  {
   "cell_type": "code",
   "execution_count": 47,
   "metadata": {},
   "outputs": [
    {
     "name": "stdout",
     "output_type": "stream",
     "text": [
      "centroids: [array([6.80208333, 3.06875   ]), array([5.76346154, 2.69038462]), array([5.006, 3.418])]\n",
      "assigned_centroids: [2. 2. 2. 2. 2. 2. 2. 2. 2. 2. 2. 2. 2. 2. 2. 2. 2. 2. 2. 2. 2. 2. 2. 2.\n",
      " 2. 2. 2. 2. 2. 2. 2. 2. 2. 2. 2. 2. 2. 2. 2. 2. 2. 2. 2. 2. 2. 2. 2. 2.\n",
      " 2. 2. 0. 0. 0. 1. 0. 1. 0. 1. 0. 1. 1. 1. 1. 1. 1. 0. 1. 1. 1. 1. 1. 1.\n",
      " 1. 1. 0. 0. 0. 0. 1. 1. 1. 1. 1. 1. 1. 1. 0. 1. 1. 1. 1. 1. 1. 1. 1. 1.\n",
      " 1. 1. 1. 1. 0. 1. 0. 0. 0. 0. 1. 0. 0. 0. 0. 0. 0. 1. 1. 0. 0. 0. 0. 1.\n",
      " 0. 1. 0. 1. 0. 0. 1. 1. 0. 0. 0. 0. 0. 0. 1. 0. 0. 0. 1. 0. 0. 0. 1. 0.\n",
      " 0. 0. 1. 0. 0. 1.]\n"
     ]
    },
    {
     "data": {
      "text/plain": [
       "<matplotlib.collections.PathCollection at 0x2ab6fa687b8>"
      ]
     },
     "execution_count": 47,
     "metadata": {},
     "output_type": "execute_result"
    },
    {
     "data": {
      "image/png": "[encoded data removed]",
      "text/plain": [
       "<Figure size 432x288 with 1 Axes>"
      ]
     },
     "metadata": {
      "needs_background": "light"
     },
     "output_type": "display_data"
    }
   ],
   "source": [
    "clusters = k_means_clustering(iris_data, k = 3, max_iter = 10)\n",
    "print(\"centroids: {}\".format(clusters[1]))\n",
    "print(\"assigned_centroids: {}\".format(clusters[0]))\n",
    "\n",
    "c = ['red', 'green', 'blue']\n",
    "colors = [c[int(i)] for i in clusters[0]]\n",
    "iris_x = [d[0] for d in iris_data]\n",
    "iris_y = [d[1] for d in iris_data]\n",
    "plt.scatter(x = iris_x, y = iris_y, color = colors)"
   ]
  },
  {
   "cell_type": "markdown",
   "metadata": {},
   "source": [
    "## Notes:\n",
    "\n",
    "* The k-means problem is solved using either Lloyd's or Elkan's algorithm.\n",
    "* The average complexity is given by O(k n T), were n is the number of samples and T is the number of iteration.\n",
    "* The worst case complexity is given by O(n^(k+2/p)) with n = n_samples, p = n_features.\n",
    "* In practice, the k-means algorithm is very fast (one of the fastest clustering algorithms available), but it falls in local minima. That's why it can be useful to restart it several times."
   ]
  },
  {
   "cell_type": "markdown",
   "metadata": {},
   "source": [
    "## Links:\n",
    "* None yet"
   ]
  }
 ],
 "metadata": {
  "kernelspec": {
   "display_name": "Python 3",
   "language": "python",
   "name": "python3"
  },
  "language_info": {
   "codemirror_mode": {
    "name": "ipython",
    "version": 3
   },
   "file_extension": ".py",
   "mimetype": "text/x-python",
   "name": "python",
   "nbconvert_exporter": "python",
   "pygments_lexer": "ipython3",
   "version": "3.7.0"
  }
 },
 "nbformat": 4,
 "nbformat_minor": 2
}
